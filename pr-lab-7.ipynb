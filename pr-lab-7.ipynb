{
 "cells": [
  {
   "cell_type": "markdown",
   "id": "5a20922d",
   "metadata": {
    "papermill": {
     "duration": 0.004297,
     "end_time": "2022-09-10T11:37:27.658622",
     "exception": false,
     "start_time": "2022-09-10T11:37:27.654325",
     "status": "completed"
    },
    "tags": []
   },
   "source": [
    "# Importing Libraries"
   ]
  },
  {
   "cell_type": "code",
   "execution_count": 1,
   "id": "cbd902eb",
   "metadata": {
    "execution": {
     "iopub.execute_input": "2022-09-10T11:37:27.667188Z",
     "iopub.status.busy": "2022-09-10T11:37:27.666683Z",
     "iopub.status.idle": "2022-09-10T11:37:28.864729Z",
     "shell.execute_reply": "2022-09-10T11:37:28.863450Z"
    },
    "papermill": {
     "duration": 1.205842,
     "end_time": "2022-09-10T11:37:28.867815",
     "exception": false,
     "start_time": "2022-09-10T11:37:27.661973",
     "status": "completed"
    },
    "tags": []
   },
   "outputs": [],
   "source": [
    "import numpy as np\n",
    "import pandas as pd\n",
    "import matplotlib.pyplot as plt\n",
    "\n",
    "import warnings\n",
    "warnings.filterwarnings(\"ignore\")\n",
    "\n",
    "from sklearn.datasets import make_gaussian_quantiles as gq\n",
    "import random"
   ]
  },
  {
   "cell_type": "markdown",
   "id": "565474f6",
   "metadata": {
    "papermill": {
     "duration": 0.002831,
     "end_time": "2022-09-10T11:37:28.873935",
     "exception": false,
     "start_time": "2022-09-10T11:37:28.871104",
     "status": "completed"
    },
    "tags": []
   },
   "source": [
    "# Generate Dataset from Gaussian Quantiles"
   ]
  },
  {
   "cell_type": "code",
   "execution_count": 2,
   "id": "b154cf90",
   "metadata": {
    "execution": {
     "iopub.execute_input": "2022-09-10T11:37:28.881780Z",
     "iopub.status.busy": "2022-09-10T11:37:28.881328Z",
     "iopub.status.idle": "2022-09-10T11:37:28.904467Z",
     "shell.execute_reply": "2022-09-10T11:37:28.903028Z"
    },
    "papermill": {
     "duration": 0.030198,
     "end_time": "2022-09-10T11:37:28.907173",
     "exception": false,
     "start_time": "2022-09-10T11:37:28.876975",
     "status": "completed"
    },
    "tags": []
   },
   "outputs": [],
   "source": [
    "df = gq(mean=[2.5, 3], cov=1.0, n_samples=150, n_features=2, n_classes=3, shuffle=True, random_state=None)"
   ]
  },
  {
   "cell_type": "code",
   "execution_count": 3,
   "id": "f4204b1c",
   "metadata": {
    "execution": {
     "iopub.execute_input": "2022-09-10T11:37:28.915760Z",
     "iopub.status.busy": "2022-09-10T11:37:28.915345Z",
     "iopub.status.idle": "2022-09-10T11:37:28.920454Z",
     "shell.execute_reply": "2022-09-10T11:37:28.919234Z"
    },
    "papermill": {
     "duration": 0.012401,
     "end_time": "2022-09-10T11:37:28.922926",
     "exception": false,
     "start_time": "2022-09-10T11:37:28.910525",
     "status": "completed"
    },
    "tags": []
   },
   "outputs": [],
   "source": [
    "x = df[0]\n",
    "y = df[1]"
   ]
  },
  {
   "cell_type": "markdown",
   "id": "b8ee70c4",
   "metadata": {
    "papermill": {
     "duration": 0.002803,
     "end_time": "2022-09-10T11:37:28.928970",
     "exception": false,
     "start_time": "2022-09-10T11:37:28.926167",
     "status": "completed"
    },
    "tags": []
   },
   "source": [
    "# Euclidian Distance Function"
   ]
  },
  {
   "cell_type": "code",
   "execution_count": 4,
   "id": "2781d726",
   "metadata": {
    "execution": {
     "iopub.execute_input": "2022-09-10T11:37:28.936996Z",
     "iopub.status.busy": "2022-09-10T11:37:28.936598Z",
     "iopub.status.idle": "2022-09-10T11:37:28.941994Z",
     "shell.execute_reply": "2022-09-10T11:37:28.940742Z"
    },
    "papermill": {
     "duration": 0.013067,
     "end_time": "2022-09-10T11:37:28.945062",
     "exception": false,
     "start_time": "2022-09-10T11:37:28.931995",
     "status": "completed"
    },
    "tags": []
   },
   "outputs": [],
   "source": [
    "def EuclidDist(point, data):\n",
    "    return np.sqrt(np.sum((point - data)**2, axis=1))"
   ]
  },
  {
   "cell_type": "code",
   "execution_count": 5,
   "id": "47e6b5ff",
   "metadata": {
    "execution": {
     "iopub.execute_input": "2022-09-10T11:37:28.953543Z",
     "iopub.status.busy": "2022-09-10T11:37:28.953058Z",
     "iopub.status.idle": "2022-09-10T11:37:28.963814Z",
     "shell.execute_reply": "2022-09-10T11:37:28.962662Z"
    },
    "papermill": {
     "duration": 0.017791,
     "end_time": "2022-09-10T11:37:28.966074",
     "exception": false,
     "start_time": "2022-09-10T11:37:28.948283",
     "status": "completed"
    },
    "tags": []
   },
   "outputs": [],
   "source": [
    "class KMeans:\n",
    "    def __init__(self, n_clusters=8, max_iter=300):\n",
    "        self.n_clusters = n_clusters\n",
    "        self.max_iter = max_iter\n",
    "        \n",
    "    def fit(self, x):\n",
    "#         min_, max_ = np.min(x, axis=0), np.max(x, axis=0)\n",
    "\n",
    "        self.centroids = [random.choice(x)]\n",
    "        iteration = 0\n",
    "        prev_centroids = None\n",
    "        while np.not_equal(self.centroids, prev_centroids).any() and iteration < self.max_iter:\n",
    "            sorted_points = [[] for _ in range(self.n_clusters)]\n",
    "            for i in x:\n",
    "                dists = EuclidDist(i, self.centroids)\n",
    "                centroid_idx = np.argmin(dists)\n",
    "                sorted_points[centroid_idx].append(i)\n",
    "            prev_centroids = self.centroids\n",
    "            self.centroids = [np.mean(cluster, axis=0) for cluster in sorted_points]\n",
    "            for i, centroid in enumerate(self.centroids):\n",
    "                if np.isnan(centroid).any():  # Catch any np.nans, resulting from a centroid having no points\n",
    "                    self.centroids[i] = prev_centroids[i]\n",
    "            iteration += 1"
   ]
  },
  {
   "cell_type": "code",
   "execution_count": 6,
   "id": "8d7576a4",
   "metadata": {
    "execution": {
     "iopub.execute_input": "2022-09-10T11:37:28.974488Z",
     "iopub.status.busy": "2022-09-10T11:37:28.974060Z",
     "iopub.status.idle": "2022-09-10T11:37:29.215827Z",
     "shell.execute_reply": "2022-09-10T11:37:29.214235Z"
    },
    "papermill": {
     "duration": 0.249299,
     "end_time": "2022-09-10T11:37:29.218687",
     "exception": false,
     "start_time": "2022-09-10T11:37:28.969388",
     "status": "completed"
    },
    "tags": []
   },
   "outputs": [],
   "source": [
    "import numpy as np\n",
    "import matplotlib.pyplot as plt\n",
    "from sklearn.preprocessing import StandardScaler\n",
    "from numpy.random import uniform\n",
    "from sklearn.datasets import make_blobs\n",
    "import seaborn as sns\n",
    "import random\n",
    "\n",
    "def euclidean(point, data):\n",
    "    \"\"\"\n",
    "    Euclidean distance between point & data.\n",
    "    Point has dimensions (m,), data has dimensions (n,m), and output will be of size (n,).\n",
    "    \"\"\"\n",
    "    return np.sqrt(np.sum((point - data)**2, axis=1))\n",
    "class KMeans:\n",
    "    def __init__(self, n_clusters=8, max_iter=300):\n",
    "        self.n_clusters = n_clusters\n",
    "        self.max_iter = max_iter\n",
    "    def fit(self, X_train):\n",
    "        # Initialize the centroids, using the \"k-means++\" method, where a random datapoint is selected as the first,\n",
    "        # then the rest are initialized w/ probabilities proportional to their distances to the first\n",
    "        # Pick a random point from train data for first centroid\n",
    "        self.centroids = [random.choice(X_train)]\n",
    "        for _ in range(self.n_clusters-1):\n",
    "            # Calculate distances from points to the centroids\n",
    "            dists = np.sum([euclidean(centroid, X_train) for centroid in self.centroids], axis=0)\n",
    "            # Normalize the distances\n",
    "            dists /= np.sum(dists)\n",
    "            # Choose remaining points based on their distances\n",
    "            new_centroid_idx, = np.random.choice(range(len(X_train)), size=1, p=dists)\n",
    "            self.centroids += [X_train[new_centroid_idx]]\n",
    "        # This initial method of randomly selecting centroid starts is less effective\n",
    "        # min_, max_ = np.min(X_train, axis=0), np.max(X_train, axis=0)\n",
    "        # self.centroids = [uniform(min_, max_) for _ in range(self.n_clusters)]\n",
    "        # Iterate, adjusting centroids until converged or until passed max_iter\n",
    "        iteration = 0\n",
    "        prev_centroids = None\n",
    "        while np.not_equal(self.centroids, prev_centroids).any() and iteration < self.max_iter:\n",
    "            # Sort each datapoint, assigning to nearest centroid\n",
    "            sorted_points = [[] for _ in range(self.n_clusters)]\n",
    "            for x in X_train:\n",
    "                dists = euclidean(x, self.centroids)\n",
    "                centroid_idx = np.argmin(dists)\n",
    "                sorted_points[centroid_idx].append(x)\n",
    "            # Push current centroids to previous, reassign centroids as mean of the points belonging to them\n",
    "            prev_centroids = self.centroids\n",
    "            self.centroids = [np.mean(cluster, axis=0) for cluster in sorted_points]\n",
    "            for i, centroid in enumerate(self.centroids):\n",
    "                if np.isnan(centroid).any():  # Catch any np.nans, resulting from a centroid having no points\n",
    "                    self.centroids[i] = prev_centroids[i]\n",
    "            iteration += 1\n",
    "    def evaluate(self, X):\n",
    "        centroids = []\n",
    "        centroid_idxs = []\n",
    "        for x in X:\n",
    "            dists = euclidean(x, self.centroids)\n",
    "            centroid_idx = np.argmin(dists)\n",
    "            centroids.append(self.centroids[centroid_idx])\n",
    "            centroid_idxs.append(centroid_idx)\n",
    "        return centroids, centroid_idxs\n",
    "\n",
    "kmeans = KMeans(n_clusters=3)\n",
    "kmeans.fit(x)"
   ]
  },
  {
   "cell_type": "code",
   "execution_count": null,
   "id": "d9373d6c",
   "metadata": {
    "papermill": {
     "duration": 0.003067,
     "end_time": "2022-09-10T11:37:29.225169",
     "exception": false,
     "start_time": "2022-09-10T11:37:29.222102",
     "status": "completed"
    },
    "tags": []
   },
   "outputs": [],
   "source": []
  }
 ],
 "metadata": {
  "kernelspec": {
   "display_name": "Python 3",
   "language": "python",
   "name": "python3"
  },
  "language_info": {
   "codemirror_mode": {
    "name": "ipython",
    "version": 3
   },
   "file_extension": ".py",
   "mimetype": "text/x-python",
   "name": "python",
   "nbconvert_exporter": "python",
   "pygments_lexer": "ipython3",
   "version": "3.7.12"
  },
  "papermill": {
   "default_parameters": {},
   "duration": 12.548912,
   "end_time": "2022-09-10T11:37:30.052994",
   "environment_variables": {},
   "exception": null,
   "input_path": "__notebook__.ipynb",
   "output_path": "__notebook__.ipynb",
   "parameters": {},
   "start_time": "2022-09-10T11:37:17.504082",
   "version": "2.3.4"
  }
 },
 "nbformat": 4,
 "nbformat_minor": 5
}
